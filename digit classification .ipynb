{
 "cells": [
  {
   "cell_type": "code",
   "execution_count": null,
   "id": "c86070ff-0a2e-4737-9f89-a17852cb25d1",
   "metadata": {},
   "outputs": [],
   "source": [
    "from sklearn.metrics import f1_score\n",
    "#ignore the error due to this command as it's a compatibility error without any issues "
   ]
  },
  {
   "cell_type": "code",
   "execution_count": 5,
   "id": "d4a5a859-be31-411a-95d9-272e0b8e2eaf",
   "metadata": {},
   "outputs": [],
   "source": [
    "import torch\n",
    "import torch.nn as nn\n",
    "import torch.nn.functional as F\n",
    "import torchvision\n",
    "import torchvision.transforms as transforms\n",
    "import matplotlib.pyplot as plt\n",
    "import numpy as np\n"
   ]
  },
  {
   "cell_type": "code",
   "execution_count": 6,
   "id": "d13f95f0-1eff-474d-a12d-4ecbe26143d7",
   "metadata": {},
   "outputs": [],
   "source": [
    "device = torch.device('cuda' if torch.cuda.is_available() else 'cpu')"
   ]
  },
  {
   "cell_type": "code",
   "execution_count": 7,
   "id": "7a46b036-6cd2-4f02-8612-4cd7c969d1af",
   "metadata": {},
   "outputs": [],
   "source": [
    "\n",
    "num_epochs=20\n",
    "batch_size=4\n",
    "learning_rate=0.001\n"
   ]
  },
  {
   "cell_type": "code",
   "execution_count": 8,
   "id": "cc59e0a0-18e1-4f93-ac41-c45957c8f12b",
   "metadata": {},
   "outputs": [],
   "source": [
    "transform = transforms.Compose([\n",
    "    transforms.RandomHorizontalFlip(),\n",
    "    transforms.RandomCrop(32, padding=4),\n",
    "    transforms.RandomRotation(15),  # New: Added Random Rotation\n",
    "    transforms.ToTensor(),\n",
    "    transforms.Normalize((0.5, 0.5, 0.5), (0.5, 0.5, 0.5))\n",
    "])"
   ]
  },
  {
   "cell_type": "code",
   "execution_count": 9,
   "id": "80eaa293-fa25-4792-8938-92a497a7ec88",
   "metadata": {},
   "outputs": [],
   "source": [
    "train_dataset=torchvision.datasets.CIFAR10(root='./data',train=True,\n",
    "                                       transform = transform, download=True)\n",
    "test_dataset=torchvision.datasets.CIFAR10(root='./data',train=False,\n",
    "                                       transform = transform,download=True)\n",
    "\n",
    "train_loader=torch.utils.data.DataLoader(train_dataset,batch_size=batch_size,shuffle=True)\n",
    "test_loader=torch.utils.data.DataLoader(test_dataset,batch_size=batch_size,shuffle=False)\n"
   ]
  },
  {
   "cell_type": "code",
   "execution_count": 10,
   "id": "bded9f0c-c4fd-4f86-acfe-28642e8c3301",
   "metadata": {},
   "outputs": [],
   "source": [
    "classes=('plane','car','bird','cat','deer','dog','frog','horse','ship','truck')"
   ]
  },
  {
   "cell_type": "code",
   "execution_count": 11,
   "id": "d62788b6-8c9c-42aa-90cc-54a640389fa8",
   "metadata": {},
   "outputs": [],
   "source": [
    "class ConvNet(nn.Module):\n",
    "    def __init__(self):\n",
    "        super(ConvNet, self).__init__()\n",
    "        self.conv1 = nn.Conv2d(3, 16, kernel_size=5, padding=2)  \n",
    "        self.bn1 = nn.BatchNorm2d(16)\n",
    "        self.conv2 = nn.Conv2d(16, 32, kernel_size=5, padding=2) \n",
    "        self.bn2 = nn.BatchNorm2d(32)\n",
    "        self.conv3 = nn.Conv2d(32, 64, kernel_size=3, padding=1)  # New: Extra Conv Layer\n",
    "        self.bn3 = nn.BatchNorm2d(64)\n",
    "\n",
    "        self.pool = nn.MaxPool2d(2, 2)\n",
    "        self.dropout = nn.Dropout(0.3)  # New: Dropout for Regularization\n",
    "\n",
    "        self.fc1 = nn.Linear(64 * 4 * 4, 256)\n",
    "        self.fc2 = nn.Linear(256, 128)\n",
    "        self.fc3 = nn.Linear(128, 10)\n",
    "\n",
    "    def forward(self, x):\n",
    "        x = self.pool(F.relu(self.bn1(self.conv1(x))))\n",
    "        x = self.pool(F.relu(self.bn2(self.conv2(x))))\n",
    "        x = self.pool(F.relu(self.bn3(self.conv3(x))))  # New: Extra Conv Layer\n",
    "        x = x.view(-1, 64 * 4 * 4)\n",
    "        x = F.relu(self.fc1(x))\n",
    "        x = self.dropout(x)\n",
    "        x = F.relu(self.fc2(x))\n",
    "        x = self.dropout(x)\n",
    "        x = self.fc3(x)\n",
    "        return x\n",
    "\n"
   ]
  },
  {
   "cell_type": "code",
   "execution_count": 13,
   "id": "35920553-0bed-40c7-a5c2-0b78f6a4086e",
   "metadata": {},
   "outputs": [],
   "source": [
    "model = ConvNet().to(device)\n",
    "optimizer = torch.optim.AdamW(model.parameters(), lr=0.001, weight_decay=1e-4)\n",
    "scheduler = torch.optim.lr_scheduler.ReduceLROnPlateau(optimizer, mode='min', patience=2, factor=0.5)\n"
   ]
  },
  {
   "cell_type": "code",
   "execution_count": 14,
   "id": "cb72e0b2-a694-475d-8b7e-c189d4c94f46",
   "metadata": {},
   "outputs": [],
   "source": [
    "criterion=nn.CrossEntropyLoss()\n"
   ]
  },
  {
   "cell_type": "code",
   "execution_count": 15,
   "id": "69d06ee8-9f62-443f-84ba-83c46c8a327e",
   "metadata": {},
   "outputs": [],
   "source": [
    "loss_values = []\n",
    "f1_values = []"
   ]
  },
  {
   "cell_type": "code",
   "execution_count": null,
   "id": "1ed5c0e5-0f8d-4460-a6f4-149eadb749f8",
   "metadata": {
    "scrolled": true
   },
   "outputs": [],
   "source": [
    "for epoch in range(num_epochs):\n",
    "    running_loss = 0.0\n",
    "    for i, (images, labels) in enumerate(train_loader):\n",
    "        images, labels = images.to(device), labels.to(device)\n",
    "\n",
    "        # Forward Pass\n",
    "        outputs = model(images)\n",
    "        loss = criterion(outputs, labels)\n",
    "\n",
    "        # Backpropagation\n",
    "        optimizer.zero_grad()\n",
    "        loss.backward()\n",
    "        optimizer.step()\n",
    "\n",
    "        loss_values.append(loss.item())\n",
    "\n",
    "        # Compute F1 Score\n",
    "        _, predictions = torch.max(outputs, 1)\n",
    "        f1 = f1_score(labels.cpu(), predictions.cpu(), average='macro')\n",
    "        f1_values.append(f1)\n",
    "\n",
    "        running_loss += loss.item()\n",
    "\n",
    "        if (i + 1) % 2000 == 0:\n",
    "            print(f'Epoch [{epoch+1}/{num_epochs}], Step [{i+1}/{len(train_loader)}], Loss: {running_loss / 2000:.4f}')\n",
    "            running_loss = 0.0\n",
    "\n",
    "    scheduler.step(running_loss)  # Reduce LR if needed\n",
    "\n",
    "print('Finished Training')\n",
    "\n",
    "# Save Model\n",
    "torch.save(model.state_dict(), './cnn.pth')"
   ]
  },
  {
   "cell_type": "code",
   "execution_count": null,
   "id": "dedaea9a-8c69-457d-960e-1c25fbbc95ee",
   "metadata": {},
   "outputs": [],
   "source": [
    "def moving_average(data, window_size=100):\n",
    "    return np.convolve(data, np.ones(window_size)/window_size, mode='valid')\n",
    "\n",
    "# Plot Loss vs Iteration with Smoothing\n",
    "plt.figure(figsize=(10, 5))\n",
    "plt.plot(moving_average(loss_values, 100), label='Smoothed Loss', color='blue', linewidth=2)\n",
    "plt.xlabel('Iteration', fontsize=12, fontweight='bold')\n",
    "plt.ylabel('Loss', fontsize=12, fontweight='bold')\n",
    "plt.title('Loss vs Iteration', fontsize=14, fontweight='bold')\n",
    "plt.legend()\n",
    "plt.grid(True, linestyle='--', alpha=0.7)\n",
    "plt.show()\n"
   ]
  },
  {
   "cell_type": "code",
   "execution_count": 48,
   "id": "fda4766a-a2cc-4b65-a423-bd6b10301ea6",
   "metadata": {},
   "outputs": [
    {
     "name": "stdout",
     "output_type": "stream",
     "text": [
      "Overall Accuracy = 69.73%\n",
      "Accuracy of plane: 76.40%\n",
      "Accuracy of car: 84.00%\n",
      "Accuracy of bird: 62.70%\n",
      "Accuracy of cat: 51.90%\n",
      "Accuracy of deer: 69.20%\n",
      "Accuracy of dog: 53.80%\n",
      "Accuracy of frog: 71.40%\n",
      "Accuracy of horse: 69.40%\n",
      "Accuracy of ship: 81.00%\n",
      "Accuracy of truck: 77.50%\n"
     ]
    }
   ],
   "source": [
    "with torch.no_grad():\n",
    "    n_correct = 0\n",
    "    n_samples = 0\n",
    "    n_class_correct = [0 for _ in range(10)]\n",
    "    n_class_samples = [0 for _ in range(10)]\n",
    "    for images, labels in test_loader:\n",
    "        images, labels = images.to(device), labels.to(device)\n",
    "        outputs = model(images)\n",
    "        _, predictions = torch.max(outputs, 1)\n",
    "        \n",
    "        n_samples += labels.size(0)\n",
    "        n_correct += (predictions == labels).sum().item()\n",
    "\n",
    "        for i in range(labels.size(0)):\n",
    "            label = labels[i]\n",
    "            pred = predictions[i]\n",
    "            if label == pred:\n",
    "                n_class_correct[label] += 1\n",
    "            n_class_samples[label] += 1\n",
    "\n",
    "    acc = 100.0 * n_correct / n_samples\n",
    "    print(f'Overall Accuracy = {acc:.2f}%')\n",
    "\n",
    "    for i in range(10):\n",
    "        class_acc = 100 * n_class_correct[i] / n_class_samples[i]\n",
    "        print(f'Accuracy of {classes[i]}: {class_acc:.2f}%')"
   ]
  },
  {
   "cell_type": "code",
   "execution_count": null,
   "id": "fa6ae026-0366-4165-bf92-041594ded370",
   "metadata": {},
   "outputs": [],
   "source": []
  },
  {
   "cell_type": "code",
   "execution_count": null,
   "id": "07e457cc-8a3b-430a-8a64-b0a0e7a774d9",
   "metadata": {},
   "outputs": [],
   "source": []
  }
 ],
 "metadata": {
  "kernelspec": {
   "display_name": "Python 3",
   "language": "python",
   "name": "python3"
  },
  "language_info": {
   "codemirror_mode": {
    "name": "ipython",
    "version": 3
   },
   "file_extension": ".py",
   "mimetype": "text/x-python",
   "name": "python",
   "nbconvert_exporter": "python",
   "pygments_lexer": "ipython3",
   "version": "3.12.4"
  }
 },
 "nbformat": 4,
 "nbformat_minor": 5
}
